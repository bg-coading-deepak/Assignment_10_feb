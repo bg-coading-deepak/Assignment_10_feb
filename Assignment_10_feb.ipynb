{
 "cells": [
  {
   "cell_type": "markdown",
   "id": "6b40204f",
   "metadata": {},
   "source": [
    "### Ques-No.1\n",
    "Which function is used to open a file? What are the different modes of opening a file? Explain each mode\n",
    "of file opening."
   ]
  },
  {
   "cell_type": "code",
   "execution_count": null,
   "id": "1ba61594",
   "metadata": {},
   "outputs": [],
   "source": [
    ">>In Python, we use the open() method to open files.\n",
    "\n",
    ">>There are 6 access opening a file modes in python.\n",
    "1.Read Only ('r') : Open text file for reading.\n",
    "2.Read and Write ('r+'): Open the file for reading and writing. \n",
    "3.Write Only ('w') : Open the file for writing. \n",
    "4.Write and Read ('w+') : Open the file for reading and writing. \n",
    "5.Append Only ('a'): Open the file for writing.\n",
    "6.Append and Read (‘a+’) : Open the file for reading and writing."
   ]
  },
  {
   "cell_type": "markdown",
   "id": "3a08965c",
   "metadata": {},
   "source": [
    "### Ques-No.2\n",
    "Why close() function is used? Why is it important to close a file?"
   ]
  },
  {
   "cell_type": "code",
   "execution_count": null,
   "id": "1bc074bf",
   "metadata": {},
   "outputs": [],
   "source": [
    ">>The close() method closes an open file. You should always close your files,\n",
    "in some cases, due to buffering, changes made to a file may not show until you close the file.\n",
    "\n",
    ">> Closing a file disconnects the program from the file.\n",
    "In some systems, failure to close an output file can cause a loss of data."
   ]
  },
  {
   "cell_type": "markdown",
   "id": "d4cf4e3a",
   "metadata": {},
   "source": [
    "### Ques-No.3\n",
    "Write a python program to create a text file. Write ‘I want to become a Data Scientist’ in that file.\n",
    "Then close the file. Open this file and read the content of the file."
   ]
  },
  {
   "cell_type": "code",
   "execution_count": 15,
   "id": "6177ebb7",
   "metadata": {},
   "outputs": [],
   "source": [
    "#file = open(\"filename\",\"mode\")\n",
    "file = open(\"myfile.txt\",\"w\")\n",
    "file.write(\"I want to become a Data Scientist\")\n",
    "file.close()"
   ]
  },
  {
   "cell_type": "code",
   "execution_count": 16,
   "id": "5b53068d",
   "metadata": {},
   "outputs": [],
   "source": [
    "with open(\"myfile.txt\",\"w\") as file:\n",
    "    file.write(\"I want to become a Data Scientist\")"
   ]
  },
  {
   "cell_type": "markdown",
   "id": "d2d9d812",
   "metadata": {},
   "source": [
    "### Ques-No.4\n",
    "Explain the following with python code: read(), readline() and readlines()."
   ]
  },
  {
   "cell_type": "code",
   "execution_count": null,
   "id": "52f326a7",
   "metadata": {},
   "outputs": [],
   "source": [
    ">>read()       method read the character by character.\n",
    "\n",
    ">>readline()   method reads only one complete line from the file given.\n",
    "\n",
    ">>Readlines()  method is used to read all lines from a file. It will return list of line."
   ]
  },
  {
   "cell_type": "code",
   "execution_count": 26,
   "id": "09b2872d",
   "metadata": {},
   "outputs": [
    {
     "name": "stdout",
     "output_type": "stream",
     "text": [
      "I want to become a Data Scientist\n"
     ]
    }
   ],
   "source": [
    "f = open(\"myfile.txt\", mode = \"r\")\n",
    "data = f.read()\n",
    "print(data)\n",
    "f.close()"
   ]
  },
  {
   "cell_type": "code",
   "execution_count": 24,
   "id": "17295efc",
   "metadata": {},
   "outputs": [
    {
     "name": "stdout",
     "output_type": "stream",
     "text": [
      "I want to become a Data Scientist\n"
     ]
    }
   ],
   "source": [
    "f = open(\"myfile.txt\", mode = \"r\")\n",
    "data = f.readline()\n",
    "print(data)\n",
    "f.close()"
   ]
  },
  {
   "cell_type": "code",
   "execution_count": 25,
   "id": "761fbe89",
   "metadata": {},
   "outputs": [
    {
     "name": "stdout",
     "output_type": "stream",
     "text": [
      "['I want to become a Data Scientist']\n"
     ]
    }
   ],
   "source": [
    "f = open(\"myfile.txt\", mode = \"r\")\n",
    "data = f.readlines()\n",
    "print(data)\n",
    "f.close()"
   ]
  },
  {
   "cell_type": "markdown",
   "id": "4cc4f045",
   "metadata": {},
   "source": [
    "### Quse-No.5\n",
    "Explain why with statement is used with open(). What is the advantage of using with statement and\n",
    "open() together?"
   ]
  },
  {
   "cell_type": "code",
   "execution_count": null,
   "id": "85bca50c",
   "metadata": {},
   "outputs": [],
   "source": [
    ">>The with statement works with the open() function to open a file.\n",
    "Unlike open() where you have to close the file with the close() method,\n",
    "the with statement closes the file for you without you telling it to.\n",
    "\n",
    ">>advantage of using with clause is that any file that is opened using this clause is closed automatically,\n",
    "once the control comes outside the with clause."
   ]
  },
  {
   "cell_type": "markdown",
   "id": "a6c9d543",
   "metadata": {},
   "source": [
    "### Ques-No.6\n",
    "Explain the write() and writelines() functions. Give a suitable example."
   ]
  },
  {
   "cell_type": "code",
   "execution_count": null,
   "id": "15761582",
   "metadata": {},
   "outputs": [],
   "source": [
    "write()  -: <file_obj>.write(<string>)  > Write <string> to file referenced by<file_obj>\n",
    "    \n",
    "writelines()   -: Return a list of lines from the file"
   ]
  },
  {
   "cell_type": "code",
   "execution_count": 11,
   "id": "2648c4ad",
   "metadata": {},
   "outputs": [],
   "source": [
    "f = open(\"w.txt\",\"w\")\n",
    "f.write(\"Hello guys\\n\")\n",
    "f.write(\"Hello guys kya hal chal\")\n",
    "f.close()"
   ]
  },
  {
   "cell_type": "code",
   "execution_count": 12,
   "id": "1c9705c0",
   "metadata": {},
   "outputs": [],
   "source": [
    "f=open(\"w1.txt\",\"w\")\n",
    "f.writelines([\"Hii friends\\n\",\"Hii friends kya hal chal\"])\n",
    "\n",
    "f.close()"
   ]
  }
 ],
 "metadata": {
  "kernelspec": {
   "display_name": "Python 3 (ipykernel)",
   "language": "python",
   "name": "python3"
  },
  "language_info": {
   "codemirror_mode": {
    "name": "ipython",
    "version": 3
   },
   "file_extension": ".py",
   "mimetype": "text/x-python",
   "name": "python",
   "nbconvert_exporter": "python",
   "pygments_lexer": "ipython3",
   "version": "3.9.12"
  }
 },
 "nbformat": 4,
 "nbformat_minor": 5
}
